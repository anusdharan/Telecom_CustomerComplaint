{
 "cells": [
  {
   "cell_type": "code",
   "execution_count": null,
   "id": "changing-choir",
   "metadata": {},
   "outputs": [],
   "source": [
    "from flask import Flask, request, render_template\n",
    "from services import fetch_prediction as fp\n",
    "\n",
    "app = Flask(__name__)\n",
    "@app.route('/')\n",
    "def my_form():\n",
    "      return render_template('index.html')\n",
    "\n",
    "@app.route('/', methods=['POST'])\n",
    "def my_form_post():\n",
    "        complaint = request.form['complaint']\n",
    "        prediction = fp.process_text(complaint)\n",
    "        return render_template('model_predictions.html', result = prediction)\n",
    "\n",
    "if __name__ == '__main__':\n",
    "      app.run(debug=True)\n"
   ]
  }
 ],
 "metadata": {
  "kernelspec": {
   "display_name": "Python 3",
   "language": "python",
   "name": "python3"
  },
  "language_info": {
   "codemirror_mode": {
    "name": "ipython",
    "version": 3
   },
   "file_extension": ".py",
   "mimetype": "text/x-python",
   "name": "python",
   "nbconvert_exporter": "python",
   "pygments_lexer": "ipython3",
   "version": "3.8.8"
  }
 },
 "nbformat": 4,
 "nbformat_minor": 5
}
