{
 "cells": [
  {
   "cell_type": "markdown",
   "id": "searching-coach",
   "metadata": {},
   "source": [
    "# Importing libraries"
   ]
  },
  {
   "cell_type": "code",
   "execution_count": 1,
   "id": "generous-depression",
   "metadata": {},
   "outputs": [],
   "source": [
    "import re\n",
    "import nltk\n",
    "from nltk.corpus import stopwords\n",
    "from nltk.stem.porter import PorterStemmer\n",
    "from sklearn.feature_extraction.text import CountVectorizer\n",
    "import pickle"
   ]
  },
  {
   "cell_type": "code",
   "execution_count": 2,
   "id": "according-recruitment",
   "metadata": {},
   "outputs": [],
   "source": [
    "# Now we have a pickled trained model, we can use this for our flask app!\n",
    "with open(r'C:\\Users\\Admin\\Downloads\\Telecome_Complaint\\IPNB_files\\c1_BoW_Sentiment_Model.pkl', 'rb') as to_read:\n",
    "       cv= pickle.load(to_read)\n",
    "with open(r'C:\\Users\\Admin\\Downloads\\Telecome_Complaint\\IPNB_files\\finalized.pickle', 'rb') as to_read:\n",
    "    classifier= pickle.load(to_read)"
   ]
  },
  {
   "cell_type": "markdown",
   "id": "expanded-weekend",
   "metadata": {},
   "source": [
    "### Random Complaint"
   ]
  },
  {
   "cell_type": "code",
   "execution_count": 3,
   "id": "entertaining-crossing",
   "metadata": {},
   "outputs": [],
   "source": [
    "new_review ='Comcast Not Working And No Service To Boot' "
   ]
  },
  {
   "cell_type": "markdown",
   "id": "aerial-boutique",
   "metadata": {},
   "source": [
    "# Data cleaning"
   ]
  },
  {
   "cell_type": "code",
   "execution_count": 4,
   "id": "median-fossil",
   "metadata": {},
   "outputs": [],
   "source": [
    "def cleanup(complaint):\n",
    "    global new_review  \n",
    "    new_review = re.sub('[^a-zA-Z]', ' ', new_review)\n",
    "    new_review = new_review.lower()\n",
    "    new_review = new_review.split()\n",
    "    ps = PorterStemmer()\n",
    "    all_stopwords = stopwords.words('english')\n",
    "    all_stopwords.remove('not')\n",
    "    new_review = [ps.stem(word) for word in new_review if not word in set(all_stopwords)]\n",
    "    new_review = ' '.join(new_review)\n",
    "    new_corpus = [new_review]\n",
    "    return new_corpus\n",
    "    "
   ]
  },
  {
   "cell_type": "markdown",
   "id": "amateur-killing",
   "metadata": {},
   "source": [
    "# Predictions"
   ]
  },
  {
   "cell_type": "code",
   "execution_count": 5,
   "id": "polyphonic-halloween",
   "metadata": {},
   "outputs": [],
   "source": [
    "def process_text(corpus):\n",
    "    new_corpus = cleanup(corpus)\n",
    "    new_X_test = cv.transform(new_corpus).toarray()\n",
    "    new_y_pred = classifier.predict(new_X_test)\n",
    "    #print(new_y_pred)\n",
    "    if new_y_pred==0:\n",
    "        print('Billing')\n",
    "    elif new_y_pred==1:\n",
    "        print('Email')\n",
    "    elif new_y_pred==2:\n",
    "        print('Grievance')\n",
    "    elif new_y_pred==3:\n",
    "        print('Internet')\n",
    "    elif new_y_pred==4:\n",
    "        print('Network')\n",
    "    elif new_y_pred==5:\n",
    "        print('Other')\n",
    "    else:\n",
    "         print('Outages')\n",
    "    return new_y_pred[0]"
   ]
  },
  {
   "cell_type": "code",
   "execution_count": 6,
   "id": "adaptive-population",
   "metadata": {},
   "outputs": [
    {
     "name": "stdout",
     "output_type": "stream",
     "text": [
      "Network\n"
     ]
    },
    {
     "data": {
      "text/plain": [
       "4"
      ]
     },
     "execution_count": 6,
     "metadata": {},
     "output_type": "execute_result"
    }
   ],
   "source": [
    "process_text(new_review)"
   ]
  },
  {
   "cell_type": "code",
   "execution_count": null,
   "id": "focal-video",
   "metadata": {},
   "outputs": [],
   "source": []
  }
 ],
 "metadata": {
  "kernelspec": {
   "display_name": "Python 3",
   "language": "python",
   "name": "python3"
  },
  "language_info": {
   "codemirror_mode": {
    "name": "ipython",
    "version": 3
   },
   "file_extension": ".py",
   "mimetype": "text/x-python",
   "name": "python",
   "nbconvert_exporter": "python",
   "pygments_lexer": "ipython3",
   "version": "3.8.8"
  }
 },
 "nbformat": 4,
 "nbformat_minor": 5
}
