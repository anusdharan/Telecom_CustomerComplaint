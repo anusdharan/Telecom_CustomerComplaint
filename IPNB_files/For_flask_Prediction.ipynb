{
 "cells": [
  {
   "cell_type": "code",
   "execution_count": 1,
   "id": "green-saskatchewan",
   "metadata": {},
   "outputs": [],
   "source": [
    "import re\n",
    "import nltk\n",
    "from nltk.corpus import stopwords\n",
    "from nltk.stem.porter import PorterStemmer\n",
    "from sklearn.feature_extraction.text import CountVectorizer\n",
    "import pickle"
   ]
  },
  {
   "cell_type": "code",
   "execution_count": 2,
   "id": "similar-desert",
   "metadata": {},
   "outputs": [],
   "source": [
    "# Now we have a pickled trained model, we can use this for our flask app!\n",
    "with open(r'C:\\Users\\Admin\\Downloads\\c1_BoW_Sentiment_Model.pkl', 'rb') as to_read:\n",
    "       cv= pickle.load(to_read)\n",
    "with open(r'C:\\Users\\Admin\\Downloads\\finalized.pickle', 'rb') as to_read:\n",
    "    classifier= pickle.load(to_read)"
   ]
  },
  {
   "cell_type": "code",
   "execution_count": 3,
   "id": "animal-arrest",
   "metadata": {},
   "outputs": [
    {
     "name": "stdout",
     "output_type": "stream",
     "text": [
      "[4]\n",
      "Network\n"
     ]
    }
   ],
   "source": [
    "new_review = 'Comcast Not Working And No Service To Boot'\n",
    "new_review = re.sub('[^a-zA-Z]', ' ', new_review)\n",
    "new_review = new_review.lower()\n",
    "new_review = new_review.split()\n",
    "ps = PorterStemmer()\n",
    "all_stopwords = stopwords.words('english')\n",
    "all_stopwords.remove('not')\n",
    "new_review = [ps.stem(word) for word in new_review if not word in set(all_stopwords)]\n",
    "new_review = ' '.join(new_review)\n",
    "new_corpus = [new_review]\n",
    "new_X_test = cv.transform(new_corpus).toarray()\n",
    "new_y_pred = classifier.predict(new_X_test)\n",
    "print(new_y_pred)\n",
    "if new_y_pred==0:\n",
    "    print('Billing')\n",
    "elif new_y_pred==1:\n",
    "    print('Email')\n",
    "elif new_y_pred==2:\n",
    "    print('Grievance')\n",
    "elif new_y_pred==3:\n",
    "    print('Internet')\n",
    "elif new_y_pred==4:\n",
    "    print('Network')\n",
    "elif new_y_pred==5:\n",
    "    print('Other')\n",
    "else:\n",
    "     print('Outages')"
   ]
  },
  {
   "cell_type": "code",
   "execution_count": null,
   "id": "humanitarian-technology",
   "metadata": {},
   "outputs": [],
   "source": []
  }
 ],
 "metadata": {
  "kernelspec": {
   "display_name": "Python 3",
   "language": "python",
   "name": "python3"
  },
  "language_info": {
   "codemirror_mode": {
    "name": "ipython",
    "version": 3
   },
   "file_extension": ".py",
   "mimetype": "text/x-python",
   "name": "python",
   "nbconvert_exporter": "python",
   "pygments_lexer": "ipython3",
   "version": "3.8.8"
  }
 },
 "nbformat": 4,
 "nbformat_minor": 5
}
